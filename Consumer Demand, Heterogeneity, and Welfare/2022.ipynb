{
 "cells": [
  {
   "cell_type": "code",
   "execution_count": 15,
   "metadata": {},
   "outputs": [],
   "source": [
    "import pandas as pd\n",
    "\n",
    "# Load Excel\n",
    "df_person = pd.read_excel(\"2022_ppl.xlsx\")\n",
    "df_drug = pd.read_excel(\"data_2022.xlsx\")\n",
    "\n",
    "# Save as CSV\n",
    "df_person.to_csv(\"2022_ppl.csv\", index=False)\n",
    "df_drug.to_csv(\"data_2022.csv\", index=False)\n"
   ]
  },
  {
   "cell_type": "code",
   "execution_count": 10,
   "metadata": {},
   "outputs": [],
   "source": [
    "df_person = pd.read_csv(\"2022_ppl.csv\")\n",
    "df_drug = pd.read_csv(\"data_2022.csv\")"
   ]
  },
  {
   "cell_type": "code",
   "execution_count": 21,
   "metadata": {},
   "outputs": [
    {
     "data": {
      "text/plain": [
       "<bound method DataFrame.count of           DUID  PID    DUPERSID  PANEL  DATAYEAR FAMID31 FAMID42 FAMID53  \\\n",
       "0      2460002  101  2460002101     24      2022       A       A       A   \n",
       "1      2460006  101  2460006101     24      2022       A       A       A   \n",
       "2      2460006  102  2460006102     24      2022       A       A       A   \n",
       "3      2460010  101  2460010101     24      2022       A       A       A   \n",
       "4      2460018  101  2460018101     24      2022       A       A       A   \n",
       "...        ...  ...         ...    ...       ...     ...     ...     ...   \n",
       "22426  2799694  101  2799694101     27      2022       A       A       A   \n",
       "22427  2799694  102  2799694102     27      2022       A       A       A   \n",
       "22428  2799695  101  2799695101     27      2022       A       A       A   \n",
       "22429  2799698  101  2799698101     27      2022       A       A       A   \n",
       "22430  2799700  101  2799700101     27      2022       A       A       A   \n",
       "\n",
       "      FAMID22 FAMIDYR  ... RXOSR22  RXPTR22  RXOTH22      PERWT22F  \\\n",
       "0           A       A  ...       0        0        0   5728.309495   \n",
       "1           A       A  ...       0        0        0  15648.881461   \n",
       "2           A       A  ...       0        0        0  14123.720178   \n",
       "3           A       A  ...       0     5288      299  16982.054917   \n",
       "4           A       A  ...       0       10        0  10682.619947   \n",
       "...       ...     ...  ...     ...      ...      ...           ...   \n",
       "22426       A       A  ...       0      231        0  21490.058502   \n",
       "22427       A       A  ...       0       79        0  18828.710297   \n",
       "22428       A       A  ...       0        0        0  15992.756873   \n",
       "22429       A       A  ...       0      578        0  15771.415106   \n",
       "22430       A       A  ...       0        0        0  11059.678739   \n",
       "\n",
       "           FAMWT22F      FAMWT22C      SAQWT22F     DIABW22F  VARSTR  VARPSU  \n",
       "0       5232.211986   5232.211986   3994.687140  6034.636755    2082       1  \n",
       "1      16017.881691  16017.881691      0.000000     0.000000    2001       4  \n",
       "2      16017.881691  12580.731740      0.000000     0.000000    2001       4  \n",
       "3      21905.758877  21905.758877      0.000000     0.000000    2038       3  \n",
       "4      11344.291012  11344.291012  17152.439412     0.000000    2041       1  \n",
       "...             ...           ...           ...          ...     ...     ...  \n",
       "22426  24757.243908  24757.243908  30689.883735     0.000000    2015       2  \n",
       "22427  24757.243908  24757.243908  22648.236877     0.000000    2015       2  \n",
       "22428  18382.130170  18382.130170  20512.235130     0.000000    2045       1  \n",
       "22429  15430.797933  15430.797933      0.000000     0.000000    2103       3  \n",
       "22430  11669.191711  11669.191711  13573.319971     0.000000    2001       3  \n",
       "\n",
       "[22431 rows x 1420 columns]>"
      ]
     },
     "execution_count": 21,
     "metadata": {},
     "output_type": "execute_result"
    }
   ],
   "source": [
    "df_person.count"
   ]
  },
  {
   "cell_type": "code",
   "execution_count": 22,
   "metadata": {},
   "outputs": [
    {
     "data": {
      "text/plain": [
       "<bound method DataFrame.count of            DUID  PID    DUPERSID        DRUGIDX             RXRECIDX  \\\n",
       "0       2460002  101  2460002101  2460002101002  2460002101002903001   \n",
       "1       2460002  101  2460002101  2460002101002  2460002101002903002   \n",
       "2       2460002  101  2460002101  2460002101003  2460002101003903001   \n",
       "3       2460002  101  2460002101  2460002101003  2460002101003903002   \n",
       "4       2460002  101  2460002101  2460002101004  2460002101004903001   \n",
       "...         ...  ...         ...            ...                  ...   \n",
       "232600  2799700  101  2799700101  2799700101011  2799700101011303002   \n",
       "232601  2799700  101  2799700101  2799700101012  2799700101012303001   \n",
       "232602  2799700  101  2799700101  2799700101012  2799700101012303002   \n",
       "232603  2799700  101  2799700101  2799700101013  2799700101013303001   \n",
       "232604  2799700  101  2799700101  2799700101013  2799700101013303002   \n",
       "\n",
       "                 LINKIDX  PANEL  PURCHRD  RXBEGMM  RXBEGYRX  ... RXVA22X  \\\n",
       "0       2460002101002903     24        9      -15        -8  ...     0.0   \n",
       "1       2460002101002903     24        9      -15        -8  ...     0.0   \n",
       "2       2460002101003903     24        9      -15        -8  ...     0.0   \n",
       "3       2460002101003903     24        9      -15        -8  ...     0.0   \n",
       "4       2460002101004903     24        9      -15        -8  ...     0.0   \n",
       "...                  ...    ...      ...      ...       ...  ...     ...   \n",
       "232600  2799700101011303     27        3      -15        -8  ...     0.0   \n",
       "232601  2799700101012303     27        3      -15        -8  ...     0.0   \n",
       "232602  2799700101012303     27        3      -15        -8  ...     0.0   \n",
       "232603  2799700101013303     27        3       -8      2022  ...     0.0   \n",
       "232604  2799700101013303     27        3       -8      2022  ...     0.0   \n",
       "\n",
       "       RXTR22X  RXOF22X  RXSL22X RXWC22X RXOT22X RXXP22X      PERWT22F  \\\n",
       "0          0.0      0.0      0.0     0.0     0.0   18.73   5728.309495   \n",
       "1          0.0      0.0      0.0     0.0     0.0   18.73   5728.309495   \n",
       "2          0.0      0.0      0.0     0.0     0.0   22.12   5728.309495   \n",
       "3          0.0      0.0      0.0     0.0     0.0   22.38   5728.309495   \n",
       "4          0.0      0.0      0.0     0.0     0.0   17.93   5728.309495   \n",
       "...        ...      ...      ...     ...     ...     ...           ...   \n",
       "232600     0.0      0.0      0.0     0.0     0.0  736.55  11059.678739   \n",
       "232601     0.0      0.0      0.0     0.0     0.0   54.87  11059.678739   \n",
       "232602     0.0      0.0      0.0     0.0     0.0   54.98  11059.678739   \n",
       "232603     0.0      0.0      0.0     0.0     0.0   27.60  11059.678739   \n",
       "232604     0.0      0.0      0.0     0.0     0.0   34.41  11059.678739   \n",
       "\n",
       "        VARSTR  VARPSU  \n",
       "0         2082       1  \n",
       "1         2082       1  \n",
       "2         2082       1  \n",
       "3         2082       1  \n",
       "4         2082       1  \n",
       "...        ...     ...  \n",
       "232600    2001       3  \n",
       "232601    2001       3  \n",
       "232602    2001       3  \n",
       "232603    2001       3  \n",
       "232604    2001       3  \n",
       "\n",
       "[232605 rows x 65 columns]>"
      ]
     },
     "execution_count": 22,
     "metadata": {},
     "output_type": "execute_result"
    }
   ],
   "source": [
    "df_drug.count"
   ]
  },
  {
   "cell_type": "code",
   "execution_count": 23,
   "metadata": {},
   "outputs": [
    {
     "name": "stdout",
     "output_type": "stream",
     "text": [
      " Done! Merged and filtered data saved as 'merged_meps_filtered.csv'\n"
     ]
    }
   ],
   "source": [
    "df = df_drug.copy()\n",
    "filtered_df = df[(df['TC1'] == 358) & (df['TC1S1'] == 99)]\n",
    "\n",
    "person_columns = ['DUPERSID',\n",
    "    'AGE22X', 'SEX', 'RACEV1X', 'RACETHX', 'HISPANX', 'MARRY22X',\n",
    "    'HWELLSPK', 'BORNUSA', 'TTLP22X', 'FAMINC22', 'POVCAT22',\n",
    "    'EDUCYR', 'HIDEG', 'EMPST53', 'EVRWRK', 'INSURC22', 'REGION22'\n",
    "]\n",
    "\n",
    "df_person_filtered = df_person[person_columns]\n",
    "\n",
    "# Step 4: Keep only needed drug columns\n",
    "drug_columns = [\n",
    "    'DUPERSID', 'PURCHRD', 'RXBEGMM', 'RXBEGYRX', 'RXDRGNAM', 'RXQUANTY',\n",
    "    'RXFORM', 'RXFRMUNT', 'RXSTRENG', 'RXSTRUNT', 'RXDAYSUP', 'PHARTP1',\n",
    "    'TC1', 'TC1S1', 'TC1S1_1', 'RXSF22X', 'RXMR22X', 'RXMD22X', 'RXPV22X',\n",
    "    'RXVA22X', 'RXTR22X', 'RXOF22X', 'RXSL22X', 'RXWC22X', 'RXOT22X', \n",
    "    'RXXP22X', 'PERWT22F', 'VARSTR', 'VARPSU'\n",
    "]\n",
    "df_drug_filtered = filtered_df[drug_columns]\n",
    "\n",
    "# Step 6: Merge datasets on DUPERSID\n",
    "df_merged = pd.merge(df_drug_filtered, df_person_filtered, on='DUPERSID', how='left')\n",
    "\n",
    "# Step 7: Save the result to CSV\n",
    "df_merged.to_csv('merged_meps_filtered.csv', index=False)\n",
    "\n",
    "print(\" Done! Merged and filtered data saved as 'merged_meps_filtered.csv'\")"
   ]
  },
  {
   "cell_type": "code",
   "execution_count": 24,
   "metadata": {},
   "outputs": [
    {
     "data": {
      "text/html": [
       "<div>\n",
       "<style scoped>\n",
       "    .dataframe tbody tr th:only-of-type {\n",
       "        vertical-align: middle;\n",
       "    }\n",
       "\n",
       "    .dataframe tbody tr th {\n",
       "        vertical-align: top;\n",
       "    }\n",
       "\n",
       "    .dataframe thead th {\n",
       "        text-align: right;\n",
       "    }\n",
       "</style>\n",
       "<table border=\"1\" class=\"dataframe\">\n",
       "  <thead>\n",
       "    <tr style=\"text-align: right;\">\n",
       "      <th></th>\n",
       "      <th>DUPERSID</th>\n",
       "      <th>PURCHRD</th>\n",
       "      <th>RXBEGMM</th>\n",
       "      <th>RXBEGYRX</th>\n",
       "      <th>RXDRGNAM</th>\n",
       "      <th>RXQUANTY</th>\n",
       "      <th>RXFORM</th>\n",
       "      <th>RXFRMUNT</th>\n",
       "      <th>RXSTRENG</th>\n",
       "      <th>RXSTRUNT</th>\n",
       "      <th>...</th>\n",
       "      <th>BORNUSA</th>\n",
       "      <th>TTLP22X</th>\n",
       "      <th>FAMINC22</th>\n",
       "      <th>POVCAT22</th>\n",
       "      <th>EDUCYR</th>\n",
       "      <th>HIDEG</th>\n",
       "      <th>EMPST53</th>\n",
       "      <th>EVRWRK</th>\n",
       "      <th>INSURC22</th>\n",
       "      <th>REGION22</th>\n",
       "    </tr>\n",
       "  </thead>\n",
       "  <tbody>\n",
       "    <tr>\n",
       "      <th>0</th>\n",
       "      <td>2460002101</td>\n",
       "      <td>9</td>\n",
       "      <td>12</td>\n",
       "      <td>2019</td>\n",
       "      <td>SITAGLIPTIN</td>\n",
       "      <td>30.0</td>\n",
       "      <td>TABS</td>\n",
       "      <td>EA</td>\n",
       "      <td>100</td>\n",
       "      <td>MG</td>\n",
       "      <td>...</td>\n",
       "      <td>1</td>\n",
       "      <td>22000</td>\n",
       "      <td>22000</td>\n",
       "      <td>3</td>\n",
       "      <td>6</td>\n",
       "      <td>1</td>\n",
       "      <td>4</td>\n",
       "      <td>1</td>\n",
       "      <td>6</td>\n",
       "      <td>2</td>\n",
       "    </tr>\n",
       "    <tr>\n",
       "      <th>1</th>\n",
       "      <td>2460002101</td>\n",
       "      <td>9</td>\n",
       "      <td>12</td>\n",
       "      <td>2019</td>\n",
       "      <td>SITAGLIPTIN</td>\n",
       "      <td>30.0</td>\n",
       "      <td>TABS</td>\n",
       "      <td>EA</td>\n",
       "      <td>100</td>\n",
       "      <td>MG</td>\n",
       "      <td>...</td>\n",
       "      <td>1</td>\n",
       "      <td>22000</td>\n",
       "      <td>22000</td>\n",
       "      <td>3</td>\n",
       "      <td>6</td>\n",
       "      <td>1</td>\n",
       "      <td>4</td>\n",
       "      <td>1</td>\n",
       "      <td>6</td>\n",
       "      <td>2</td>\n",
       "    </tr>\n",
       "    <tr>\n",
       "      <th>2</th>\n",
       "      <td>2460029101</td>\n",
       "      <td>8</td>\n",
       "      <td>5</td>\n",
       "      <td>2022</td>\n",
       "      <td>SEMAGLUTIDE</td>\n",
       "      <td>2.0</td>\n",
       "      <td>SOPN</td>\n",
       "      <td>ML</td>\n",
       "      <td>2/1.5</td>\n",
       "      <td>MG/ML</td>\n",
       "      <td>...</td>\n",
       "      <td>1</td>\n",
       "      <td>86500</td>\n",
       "      <td>98000</td>\n",
       "      <td>5</td>\n",
       "      <td>12</td>\n",
       "      <td>3</td>\n",
       "      <td>1</td>\n",
       "      <td>-1</td>\n",
       "      <td>1</td>\n",
       "      <td>1</td>\n",
       "    </tr>\n",
       "    <tr>\n",
       "      <th>3</th>\n",
       "      <td>2460029101</td>\n",
       "      <td>8</td>\n",
       "      <td>5</td>\n",
       "      <td>2022</td>\n",
       "      <td>SEMAGLUTIDE</td>\n",
       "      <td>2.0</td>\n",
       "      <td>SOPN</td>\n",
       "      <td>ML</td>\n",
       "      <td>2/1.5</td>\n",
       "      <td>MG/ML</td>\n",
       "      <td>...</td>\n",
       "      <td>1</td>\n",
       "      <td>86500</td>\n",
       "      <td>98000</td>\n",
       "      <td>5</td>\n",
       "      <td>12</td>\n",
       "      <td>3</td>\n",
       "      <td>1</td>\n",
       "      <td>-1</td>\n",
       "      <td>1</td>\n",
       "      <td>1</td>\n",
       "    </tr>\n",
       "    <tr>\n",
       "      <th>4</th>\n",
       "      <td>2460029101</td>\n",
       "      <td>8</td>\n",
       "      <td>5</td>\n",
       "      <td>2022</td>\n",
       "      <td>SEMAGLUTIDE</td>\n",
       "      <td>6.0</td>\n",
       "      <td>SOPN</td>\n",
       "      <td>ML</td>\n",
       "      <td>2/1.5</td>\n",
       "      <td>MG/ML</td>\n",
       "      <td>...</td>\n",
       "      <td>1</td>\n",
       "      <td>86500</td>\n",
       "      <td>98000</td>\n",
       "      <td>5</td>\n",
       "      <td>12</td>\n",
       "      <td>3</td>\n",
       "      <td>1</td>\n",
       "      <td>-1</td>\n",
       "      <td>1</td>\n",
       "      <td>1</td>\n",
       "    </tr>\n",
       "  </tbody>\n",
       "</table>\n",
       "<p>5 rows × 46 columns</p>\n",
       "</div>"
      ],
      "text/plain": [
       "     DUPERSID  PURCHRD  RXBEGMM  RXBEGYRX     RXDRGNAM  RXQUANTY RXFORM  \\\n",
       "0  2460002101        9       12      2019  SITAGLIPTIN      30.0   TABS   \n",
       "1  2460002101        9       12      2019  SITAGLIPTIN      30.0   TABS   \n",
       "2  2460029101        8        5      2022  SEMAGLUTIDE       2.0   SOPN   \n",
       "3  2460029101        8        5      2022  SEMAGLUTIDE       2.0   SOPN   \n",
       "4  2460029101        8        5      2022  SEMAGLUTIDE       6.0   SOPN   \n",
       "\n",
       "  RXFRMUNT RXSTRENG RXSTRUNT  ...  BORNUSA  TTLP22X  FAMINC22  POVCAT22  \\\n",
       "0       EA      100       MG  ...        1    22000     22000         3   \n",
       "1       EA      100       MG  ...        1    22000     22000         3   \n",
       "2       ML    2/1.5    MG/ML  ...        1    86500     98000         5   \n",
       "3       ML    2/1.5    MG/ML  ...        1    86500     98000         5   \n",
       "4       ML    2/1.5    MG/ML  ...        1    86500     98000         5   \n",
       "\n",
       "   EDUCYR  HIDEG  EMPST53  EVRWRK  INSURC22  REGION22  \n",
       "0       6      1        4       1         6         2  \n",
       "1       6      1        4       1         6         2  \n",
       "2      12      3        1      -1         1         1  \n",
       "3      12      3        1      -1         1         1  \n",
       "4      12      3        1      -1         1         1  \n",
       "\n",
       "[5 rows x 46 columns]"
      ]
     },
     "execution_count": 24,
     "metadata": {},
     "output_type": "execute_result"
    }
   ],
   "source": [
    "df_merged.head()"
   ]
  },
  {
   "cell_type": "code",
   "execution_count": null,
   "metadata": {},
   "outputs": [
    {
     "name": "stdout",
     "output_type": "stream",
     "text": [
      "['DUPERSID', 'PURCHRD', 'RXBEGMM', 'RXBEGYRX', 'RXDRGNAM', 'RXQUANTY', 'RXFORM', 'RXFRMUNT', 'RXSTRENG', 'RXSTRUNT', 'RXDAYSUP', 'PHARTP1', 'TC1', 'TC1S1', 'TC1S1_1', 'RXSF22X', 'RXMR22X', 'RXMD22X', 'RXPV22X', 'RXVA22X', 'RXTR22X', 'RXOF22X', 'RXSL22X', 'RXWC22X', 'RXOT22X', 'RXXP22X', 'PERWT22F', 'VARSTR', 'VARPSU', 'AGE22X', 'SEX', 'RACEV1X', 'RACETHX', 'HISPANX', 'MARRY22X', 'HWELLSPK', 'BORNUSA', 'TTLP22X', 'FAMINC22', 'POVCAT22', 'EDUCYR', 'HIDEG', 'EMPST53', 'EVRWRK', 'INSURC22', 'REGION22']\n"
     ]
    }
   ],
   "source": [
    "\n",
    "import pandas as pdimport pandas as pd\n",
    "import numpy as np\n",
    "import statsmodels.api as sm\n",
    "from statsmodels.discrete.discrete_model import MNLogit\n",
    "from sklearn.preprocessing import StandardScaler\n",
    "df = pd.read_csv(\"merged_meps_filtered.csv\")\n",
    "print(df.columns.tolist())"
   ]
  },
  {
   "cell_type": "code",
   "execution_count": null,
   "metadata": {},
   "outputs": [
    {
     "name": "stdout",
     "output_type": "stream",
     "text": [
      "Choice ID Mapping: {0: 'GLIPIZIDE', 1: 'INSULIN GLARGINE', 2: 'METFORMIN', 3: 'SEMAGLUTIDE'}\n",
      "Warning: Maximum number of iterations has been exceeded.\n",
      "         Current function value: 1.020759\n",
      "         Iterations: 100\n"
     ]
    },
    {
     "name": "stderr",
     "output_type": "stream",
     "text": [
      "c:\\Users\\logc0\\anaconda3\\envs\\hw6\\lib\\site-packages\\statsmodels\\base\\model.py:607: ConvergenceWarning: Maximum Likelihood optimization failed to converge. Check mle_retvals\n",
      "  warnings.warn(\"Maximum Likelihood optimization failed to \"\n"
     ]
    },
    {
     "name": "stdout",
     "output_type": "stream",
     "text": [
      "                          MNLogit Regression Results                          \n",
      "==============================================================================\n",
      "Dep. Variable:                 choice   No. Observations:                11263\n",
      "Model:                        MNLogit   Df Residuals:                    11203\n",
      "Method:                           MLE   Df Model:                           57\n",
      "Date:                Thu, 03 Apr 2025   Pseudo R-squ.:                 0.04024\n",
      "Time:                        22:20:07   Log-Likelihood:                -11497.\n",
      "converged:                      False   LL-Null:                       -11979.\n",
      "Covariance Type:            nonrobust   LLR p-value:                4.962e-165\n",
      "==============================================================================\n",
      "  choice=1       coef    std err          z      P>|z|      [0.025      0.975]\n",
      "------------------------------------------------------------------------------\n",
      "const         -0.7772      0.654     -1.189      0.235      -2.059       0.504\n",
      "AGE22X        -0.1412      0.045     -3.126      0.002      -0.230      -0.053\n",
      "FAMINC22       0.1085      0.080      1.359      0.174      -0.048       0.265\n",
      "SEX_2         -0.0465      0.076     -0.608      0.543      -0.196       0.103\n",
      "RACEV1X_2      0.2859      0.099      2.882      0.004       0.091       0.480\n",
      "RACEV1X_3     -1.2760      0.319     -4.004      0.000      -1.901      -0.651\n",
      "RACEV1X_4     -1.1742      0.248     -4.732      0.000      -1.661      -0.688\n",
      "RACEV1X_6      0.6753      0.266      2.535      0.011       0.153       1.197\n",
      "MARRY22X_2     0.2199      0.119      1.852      0.064      -0.013       0.453\n",
      "MARRY22X_3     0.3526      0.103      3.416      0.001       0.150       0.555\n",
      "MARRY22X_4    -0.3206      0.179     -1.794      0.073      -0.671       0.030\n",
      "MARRY22X_5    -0.1119      0.117     -0.958      0.338      -0.341       0.117\n",
      "POVCAT22_2    -0.1958      0.151     -1.295      0.195      -0.492       0.101\n",
      "POVCAT22_3    -0.2552      0.114     -2.243      0.025      -0.478      -0.032\n",
      "POVCAT22_4    -0.0840      0.114     -0.739      0.460      -0.307       0.139\n",
      "POVCAT22_5    -0.3468      0.188     -1.845      0.065      -0.715       0.022\n",
      "REGION22_1     1.6966      0.653      2.597      0.009       0.416       2.977\n",
      "REGION22_2     1.3835      0.650      2.127      0.033       0.109       2.658\n",
      "REGION22_3     1.1300      0.649      1.741      0.082      -0.142       2.402\n",
      "REGION22_4     1.1669      0.652      1.791      0.073      -0.110       2.444\n",
      "------------------------------------------------------------------------------\n",
      "  choice=2       coef    std err          z      P>|z|      [0.025      0.975]\n",
      "------------------------------------------------------------------------------\n",
      "const         -0.1595      0.524     -0.304      0.761      -1.187       0.868\n",
      "AGE22X        -0.2570      0.038     -6.757      0.000      -0.332      -0.182\n",
      "FAMINC22       0.1455      0.065      2.237      0.025       0.018       0.273\n",
      "SEX_2          0.2036      0.065      3.150      0.002       0.077       0.330\n",
      "RACEV1X_2      0.0203      0.087      0.232      0.816      -0.151       0.191\n",
      "RACEV1X_3     -0.2715      0.193     -1.405      0.160      -0.650       0.107\n",
      "RACEV1X_4     -0.1560      0.153     -1.019      0.308      -0.456       0.144\n",
      "RACEV1X_6      0.5561      0.245      2.272      0.023       0.076       1.036\n",
      "MARRY22X_2    -0.0092      0.100     -0.092      0.927      -0.206       0.187\n",
      "MARRY22X_3     0.0108      0.089      0.122      0.903      -0.163       0.185\n",
      "MARRY22X_4    -0.6879      0.146     -4.716      0.000      -0.974      -0.402\n",
      "MARRY22X_5    -0.4132      0.098     -4.209      0.000      -0.606      -0.221\n",
      "POVCAT22_2     0.1647      0.127      1.297      0.195      -0.084       0.414\n",
      "POVCAT22_3    -0.1197      0.097     -1.239      0.215      -0.309       0.070\n",
      "POVCAT22_4     0.1345      0.097      1.384      0.166      -0.056       0.325\n",
      "POVCAT22_5     0.4001      0.153      2.612      0.009       0.100       0.700\n",
      "REGION22_1     1.8435      0.525      3.512      0.000       0.815       2.872\n",
      "REGION22_2     1.8809      0.521      3.607      0.000       0.859       2.903\n",
      "REGION22_3     1.7281      0.520      3.322      0.001       0.709       2.748\n",
      "REGION22_4     1.7787      0.522      3.405      0.001       0.755       2.803\n",
      "------------------------------------------------------------------------------\n",
      "  choice=3       coef    std err          z      P>|z|      [0.025      0.975]\n",
      "------------------------------------------------------------------------------\n",
      "const        -19.5254   1146.274     -0.017      0.986   -2266.182    2227.131\n",
      "AGE22X        -0.5436      0.051    -10.723      0.000      -0.643      -0.444\n",
      "FAMINC22       0.2307      0.074      3.119      0.002       0.086       0.376\n",
      "SEX_2          0.2463      0.089      2.779      0.005       0.073       0.420\n",
      "RACEV1X_2      0.5605      0.116      4.849      0.000       0.334       0.787\n",
      "RACEV1X_3     -1.2127      0.402     -3.018      0.003      -2.000      -0.425\n",
      "RACEV1X_4     -1.3226      0.272     -4.859      0.000      -1.856      -0.789\n",
      "RACEV1X_6      0.5043      0.297      1.696      0.090      -0.079       1.087\n",
      "MARRY22X_2     0.2658      0.142      1.875      0.061      -0.012       0.544\n",
      "MARRY22X_3     0.1701      0.124      1.376      0.169      -0.072       0.412\n",
      "MARRY22X_4    -0.0572      0.204     -0.280      0.779      -0.457       0.343\n",
      "MARRY22X_5    -0.4944      0.138     -3.594      0.000      -0.764      -0.225\n",
      "POVCAT22_2     0.8832      0.192      4.599      0.000       0.507       1.260\n",
      "POVCAT22_3     0.7678      0.151      5.081      0.000       0.472       1.064\n",
      "POVCAT22_4     0.7633      0.147      5.187      0.000       0.475       1.052\n",
      "POVCAT22_5     1.6309      0.197      8.262      0.000       1.244       2.018\n",
      "REGION22_1    18.6230   1146.274      0.016      0.987   -2228.034    2265.280\n",
      "REGION22_2    18.2445   1146.274      0.016      0.987   -2228.412    2264.901\n",
      "REGION22_3    18.1711   1146.274      0.016      0.987   -2228.485    2264.828\n",
      "REGION22_4    18.3100   1146.274      0.016      0.987   -2228.347    2264.967\n",
      "==============================================================================\n"
     ]
    }
   ],
   "source": [
    "\n",
    "df = pd.read_csv(\"merged_meps_filtered.csv\")\n",
    "# STEP 1: Filter for diabetes drugs (TC1=358 and TC1S1=99)\n",
    "df = df[(df['TC1'] == 358) & (df['TC1S1'] == 99)].copy()\n",
    "\n",
    "# STEP 2: Keep only top 4 most frequent drug names\n",
    "top_4_drugs = df['RXDRGNAM'].value_counts().nlargest(4).index.tolist()\n",
    "df = df[df['RXDRGNAM'].isin(top_4_drugs)].copy()\n",
    "\n",
    "# STEP 3: Create 'choice' variable by encoding drug names\n",
    "df['choice'] = df['RXDRGNAM'].astype('category').cat.codes\n",
    "choice_mapping = dict(enumerate(df['RXDRGNAM'].astype('category').cat.categories))\n",
    "print(\"Choice ID Mapping:\", choice_mapping)\n",
    "\n",
    "# STEP 4: Specify consumer feature columns\n",
    "# STEP 4: Specify cleaned feature columns\n",
    "numerical_vars = ['AGE22X', 'FAMINC22']\n",
    "categorical_vars = ['SEX', 'RACEV1X', 'MARRY22X', 'POVCAT22', 'REGION22']\n",
    "\n",
    "# STEP 5: Drop missing values (important for MLE)\n",
    "df = df.dropna(subset=numerical_vars + categorical_vars + ['choice'])\n",
    "\n",
    "# STEP 6: Standardize numerical features\n",
    "scaler = StandardScaler()\n",
    "df[numerical_vars] = scaler.fit_transform(df[numerical_vars])\n",
    "\n",
    "# STEP 7: One-hot encode categorical variables\n",
    "df_encoded = pd.get_dummies(df[numerical_vars + categorical_vars + ['choice']], \n",
    "                             columns=categorical_vars, \n",
    "                             drop_first=True)\n",
    "\n",
    "# STEP 8: Prepare data for MNL\n",
    "X = df_encoded.drop(columns=['choice'])\n",
    "X = sm.add_constant(X)  # Add intercept\n",
    "X = X.astype(float)\n",
    "y = df_encoded['choice'].astype(int)\n",
    "\n",
    "# STEP 9: Fit Multinomial Logit model using MLE\n",
    "mnl_model = MNLogit(y, X)\n",
    "mnl_result = mnl_model.fit(method='newton', maxiter=100, full_output=True, disp=True)\n",
    "\n",
    "# STEP 10: Print model summary\n",
    "print(mnl_result.summary())\n",
    "\n",
    "with open(\"mnl_results.txt\", \"w\") as f:\n",
    "    f.write(\"Choice ID Mapping: \" + str(choice_mapping) + \"\\n\\n\")\n",
    "    f.write(mnl_result.summary().as_text())\n",
    "\n"
   ]
  },
  {
   "cell_type": "code",
   "execution_count": null,
   "metadata": {},
   "outputs": [
    {
     "name": "stdout",
     "output_type": "stream",
     "text": [
      "Choice ID Mapping: {0: 'EMPAGLIFLOZIN', 1: 'GLIPIZIDE', 2: 'INSULIN GLARGINE', 3: 'INSULIN LISPRO', 4: 'METFORMIN', 5: 'SEMAGLUTIDE'}\n",
      "Optimization terminated successfully.\n",
      "         Current function value: 1.276976\n",
      "         Iterations 8\n"
     ]
    }
   ],
   "source": [
    "import pandas as pd\n",
    "import numpy as np\n",
    "import statsmodels.api as sm\n",
    "from statsmodels.discrete.discrete_model import MNLogit\n",
    "from sklearn.preprocessing import StandardScaler\n",
    "\n",
    "# STEP 0: Load  final merged dataset\n",
    "df = pd.read_csv(\"merged_meps_filtered.csv\")  # <-- Change this to your file name\n",
    "# STEP: Replace -1 with NaN or drop\n",
    "df['REGION22'] = df['REGION22'].replace(-1, np.nan)\n",
    "\n",
    "\n",
    "# STEP 1: Filter diabetes drugs (TC1 = 358 and TC1S1 = 99)\n",
    "df = df[(df['TC1'] == 358) & (df['TC1S1'] == 99)].copy()\n",
    "\n",
    "# STEP 2: Keep only top 6 most frequent drug names\n",
    "top_7_drugs = df['RXDRGNAM'].value_counts().nlargest(6).index.tolist()\n",
    "df = df[df['RXDRGNAM'].isin(top_7_drugs)].copy()\n",
    "\n",
    "# STEP 3: Create choice variable\n",
    "df['choice'] = df['RXDRGNAM'].astype('category').cat.codes\n",
    "choice_mapping = dict(enumerate(df['RXDRGNAM'].astype('category').cat.categories))\n",
    "print(\"Choice ID Mapping:\", choice_mapping)\n",
    "\n",
    "# STEP 4: Specify consumer features\n",
    "numerical_vars = ['AGE22X', 'FAMINC22']\n",
    "categorical_vars = ['SEX',  'MARRY22X']\n",
    "\n",
    "# Create drug price proxy: total payment across payers\n",
    "df['price'] = df[\"RXSF22X\"]\n",
    "numerical_vars += ['price']\n",
    "\n",
    "# STEP 5: Drop missing data\n",
    "df = df.dropna(subset=numerical_vars + categorical_vars + ['choice'])\n",
    "\n",
    "# STEP 7: One-hot encode categorical features\n",
    "df_encoded = pd.get_dummies(df[numerical_vars + categorical_vars + ['choice']], \n",
    "                             columns=categorical_vars, drop_first=True)\n",
    "\n",
    "# STEP 8: Prepare X and y\n",
    "X = df_encoded.drop(columns=['choice'])\n",
    "X = sm.add_constant(X)\n",
    "X = X.astype(float)\n",
    "y = df_encoded['choice'].astype(int)\n",
    "\n",
    "# STEP 9: Fit Multinomial Logit Model\n",
    "mnl_model = MNLogit(y, X)\n",
    "mnl_result = mnl_model.fit(method='newton', maxiter=500, full_output=True, disp=True)\n",
    "\n",
    "# STEP 10: Save Results\n",
    "with open(\"mnl_results_3.txt\", \"w\") as f:\n",
    "    f.write(\"Choice ID Mapping: \" + str(choice_mapping) + \"\\n\\n\")\n",
    "    f.write(mnl_result.summary().as_text())"
   ]
  },
  {
   "cell_type": "code",
   "execution_count": 102,
   "metadata": {},
   "outputs": [
    {
     "name": "stdout",
     "output_type": "stream",
     "text": [
      "          0         1         2         3         4         5\n",
      "2  0.138461  0.048438  0.147349  0.089033  0.377011  0.199708\n",
      "3  0.138461  0.048438  0.147349  0.089033  0.377011  0.199708\n",
      "4  0.229018  0.010735  0.238380  0.146048  0.053676  0.322142\n",
      "5  0.138461  0.048438  0.147349  0.089033  0.377011  0.199708\n",
      "6  0.138461  0.048438  0.147349  0.089033  0.377011  0.199708\n"
     ]
    }
   ],
   "source": [
    "predicted_probs = mnl_result.predict(X)\n",
    "print(predicted_probs.head())"
   ]
  },
  {
   "cell_type": "code",
   "execution_count": 106,
   "metadata": {},
   "outputs": [
    {
     "name": "stdout",
     "output_type": "stream",
     "text": [
      "2    4\n",
      "3    4\n",
      "4    5\n",
      "5    4\n",
      "6    4\n",
      "dtype: int64\n"
     ]
    }
   ],
   "source": [
    "predicted_choice = predicted_probs.idxmax(axis=1)\n",
    "print(predicted_choice.head())"
   ]
  },
  {
   "cell_type": "code",
   "execution_count": null,
   "metadata": {},
   "outputs": [
    {
     "name": "stdout",
     "output_type": "stream",
     "text": [
      "In-sample accuracy: 0.5718423660339965\n"
     ]
    }
   ],
   "source": [
    "true_choice = y  \n",
    "accuracy = (predicted_choice == true_choice).mean()\n",
    "print(\"In-sample accuracy:\", accuracy)"
   ]
  },
  {
   "cell_type": "code",
   "execution_count": 57,
   "metadata": {},
   "outputs": [
    {
     "name": "stdout",
     "output_type": "stream",
     "text": [
      "RXDRGNAM\n",
      "DULAGLUTIDE         53.904572\n",
      "EMPAGLIFLOZIN       46.570385\n",
      "SEMAGLUTIDE         38.797980\n",
      "INSULIN LISPRO      38.458826\n",
      "INSULIN GLARGINE    33.301170\n",
      "GLIPIZIDE            4.235349\n",
      "METFORMIN            3.857313\n",
      "Name: price, dtype: float64\n"
     ]
    }
   ],
   "source": [
    "# Group by drug and show average price\n",
    "print(df.groupby('RXDRGNAM')['price'].mean().sort_values(ascending=False))"
   ]
  },
  {
   "cell_type": "code",
   "execution_count": 61,
   "metadata": {},
   "outputs": [
    {
     "name": "stdout",
     "output_type": "stream",
     "text": [
      "REGION22\n",
      " 3    5013\n",
      " 2    3119\n",
      " 4    2810\n",
      " 1    2177\n",
      "-1      34\n",
      "Name: count, dtype: int64\n"
     ]
    }
   ],
   "source": [
    "print(df['REGION22'].value_counts())\n"
   ]
  },
  {
   "cell_type": "code",
   "execution_count": 93,
   "metadata": {},
   "outputs": [
    {
     "name": "stdout",
     "output_type": "stream",
     "text": [
      "1.0.1\n"
     ]
    }
   ],
   "source": [
    "import pylogit\n",
    "print(pylogit.__version__)"
   ]
  },
  {
   "cell_type": "code",
   "execution_count": null,
   "metadata": {},
   "outputs": [],
   "source": [
    "\n"
   ]
  }
 ],
 "metadata": {
  "kernelspec": {
   "display_name": "hw6",
   "language": "python",
   "name": "python3"
  },
  "language_info": {
   "codemirror_mode": {
    "name": "ipython",
    "version": 3
   },
   "file_extension": ".py",
   "mimetype": "text/x-python",
   "name": "python",
   "nbconvert_exporter": "python",
   "pygments_lexer": "ipython3",
   "version": "3.9.18"
  }
 },
 "nbformat": 4,
 "nbformat_minor": 2
}
